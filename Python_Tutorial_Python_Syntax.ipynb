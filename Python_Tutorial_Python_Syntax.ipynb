{
  "nbformat": 4,
  "nbformat_minor": 0,
  "metadata": {
    "colab": {
      "name": "Python Tutorial - Python Syntax.ipynb",
      "provenance": [],
      "authorship_tag": "ABX9TyMUUOLnqYHUjQXdArUQlL0p",
      "include_colab_link": true
    },
    "kernelspec": {
      "name": "python3",
      "display_name": "Python 3"
    },
    "language_info": {
      "name": "python"
    }
  },
  "cells": [
    {
      "cell_type": "markdown",
      "metadata": {
        "id": "view-in-github",
        "colab_type": "text"
      },
      "source": [
        "<a href=\"https://colab.research.google.com/github/natnew/Python-Course/blob/main/Python_Tutorial_Python_Syntax.ipynb\" target=\"_parent\"><img src=\"https://colab.research.google.com/assets/colab-badge.svg\" alt=\"Open In Colab\"/></a>"
      ]
    },
    {
      "cell_type": "markdown",
      "source": [
        "#Python Syntax\n"
      ],
      "metadata": {
        "id": "QQ6QApOq8G3q"
      }
    },
    {
      "cell_type": "code",
      "execution_count": 2,
      "metadata": {
        "colab": {
          "base_uri": "https://localhost:8080/"
        },
        "id": "NvEbdK_67Xuo",
        "outputId": "bb7c7b16-9d6e-437c-a12d-6381430bc41a"
      },
      "outputs": [
        {
          "output_type": "stream",
          "name": "stdout",
          "text": [
            "1\n",
            "2\n",
            "3\n",
            "4\n",
            "5\n"
          ]
        }
      ],
      "source": [
        "#This is Python Indentation; it makes your code readable and identifies a block of code\n",
        "list = [1,2,3,4,5]\n",
        "for x in list:\n",
        "  print(x)"
      ]
    },
    {
      "cell_type": "code",
      "source": [
        "#We have assigned integers to the x and y variables,and we can use these variables across our program.\n",
        "x = 10\n",
        "y = 5\n",
        "\n",
        "if x > y:\n",
        "  print('x is greater than y')\n",
        "else:\n",
        "  print('y is greater than x')"
      ],
      "metadata": {
        "colab": {
          "base_uri": "https://localhost:8080/"
        },
        "id": "LEEYrhqB7mb1",
        "outputId": "317624b1-5070-4636-8ff9-77e6559f5060"
      },
      "execution_count": 6,
      "outputs": [
        {
          "output_type": "stream",
          "name": "stdout",
          "text": [
            "x is greater than y\n"
          ]
        }
      ]
    },
    {
      "cell_type": "code",
      "source": [
        "#This is a comment, it makes our code more readable\n",
        "print('Hello World!')"
      ],
      "metadata": {
        "id": "b8cYNKtC7saL",
        "colab": {
          "base_uri": "https://localhost:8080/"
        },
        "outputId": "80c93bb5-801e-4192-e65b-5ef27f53c3cd"
      },
      "execution_count": 7,
      "outputs": [
        {
          "output_type": "stream",
          "name": "stdout",
          "text": [
            "Hello World!\n"
          ]
        }
      ]
    },
    {
      "cell_type": "markdown",
      "source": [
        "## Your Turn!\n",
        "Edit and execute the following code in your chosen Python environment."
      ],
      "metadata": {
        "id": "OCPd46y99TN1"
      }
    },
    {
      "cell_type": "code",
      "source": [
        "print('Turn this line of code into a comment.')\n",
        "#x = 10 #Turn this comment into a variable \n",
        "print(x)\n",
        "\n",
        "#if x > y:\n",
        "  #print('this is indentation')\n",
        "#else:\n",
        "  #print('this is also indentation')"
      ],
      "metadata": {
        "colab": {
          "base_uri": "https://localhost:8080/"
        },
        "id": "NO08AwLj9VeZ",
        "outputId": "4dfddeee-f7f1-4363-ac25-2a31090443c1"
      },
      "execution_count": 9,
      "outputs": [
        {
          "output_type": "stream",
          "name": "stdout",
          "text": [
            "Turn this line of code into a comment.\n",
            "10\n"
          ]
        }
      ]
    }
  ]
}