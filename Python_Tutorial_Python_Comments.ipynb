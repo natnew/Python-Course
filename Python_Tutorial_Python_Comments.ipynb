{
  "nbformat": 4,
  "nbformat_minor": 0,
  "metadata": {
    "colab": {
      "name": "Python Tutorial - Python Comments.ipynb",
      "provenance": [],
      "authorship_tag": "ABX9TyP4qjuSxZpnciAShLtbb8XJ",
      "include_colab_link": true
    },
    "kernelspec": {
      "name": "python3",
      "display_name": "Python 3"
    },
    "language_info": {
      "name": "python"
    }
  },
  "cells": [
    {
      "cell_type": "markdown",
      "metadata": {
        "id": "view-in-github",
        "colab_type": "text"
      },
      "source": [
        "<a href=\"https://colab.research.google.com/github/natnew/Python-Course/blob/main/Python_Tutorial_Python_Comments.ipynb\" target=\"_parent\"><img src=\"https://colab.research.google.com/assets/colab-badge.svg\" alt=\"Open In Colab\"/></a>"
      ]
    },
    {
      "cell_type": "markdown",
      "source": [
        "#Python Comments\n",
        "In Python we use comments to explain our code, make it readable and test code."
      ],
      "metadata": {
        "id": "QQ6QApOq8G3q"
      }
    },
    {
      "cell_type": "code",
      "execution_count": 1,
      "metadata": {
        "colab": {
          "base_uri": "https://localhost:8080/"
        },
        "id": "NvEbdK_67Xuo",
        "outputId": "ef1d8f54-494a-4b66-8b11-9391f6ee3625"
      },
      "outputs": [
        {
          "output_type": "stream",
          "name": "stdout",
          "text": [
            "Hello World!\n"
          ]
        }
      ],
      "source": [
        "#This is a Python comment\n",
        "print('Hello World!')"
      ]
    },
    {
      "cell_type": "code",
      "source": [
        "print('Hello World!') #This is an end of line comment"
      ],
      "metadata": {
        "colab": {
          "base_uri": "https://localhost:8080/"
        },
        "id": "LEEYrhqB7mb1",
        "outputId": "b59d3776-2f4e-4a1d-d96f-0b06ff48bbf2"
      },
      "execution_count": 2,
      "outputs": [
        {
          "output_type": "stream",
          "name": "stdout",
          "text": [
            "Hello World!\n"
          ]
        }
      ]
    },
    {
      "cell_type": "code",
      "source": [
        "#This is Python code commented out \n",
        "#print('Hello World!')"
      ],
      "metadata": {
        "id": "b8cYNKtC7saL"
      },
      "execution_count": 3,
      "outputs": []
    },
    {
      "cell_type": "code",
      "source": [
        "#This is a comment\n",
        "#On multiple lines\n",
        "print('Hello World!')"
      ],
      "metadata": {
        "colab": {
          "base_uri": "https://localhost:8080/"
        },
        "id": "eTBHwQfA8xvG",
        "outputId": "909e7064-c416-4af9-db90-f25b4737179d"
      },
      "execution_count": 4,
      "outputs": [
        {
          "output_type": "stream",
          "name": "stdout",
          "text": [
            "Hello World!\n"
          ]
        }
      ]
    },
    {
      "cell_type": "code",
      "source": [
        "\"\"\" \n",
        "This is also\n",
        "a comment across\n",
        "multiple lines\n",
        "\"\"\"\n",
        "print('Hello World!')"
      ],
      "metadata": {
        "colab": {
          "base_uri": "https://localhost:8080/"
        },
        "id": "NmNuFSXv84Zj",
        "outputId": "aa666e50-eaad-4629-9c99-014b4b3954d9"
      },
      "execution_count": 5,
      "outputs": [
        {
          "output_type": "stream",
          "name": "stdout",
          "text": [
            "Hello World!\n"
          ]
        }
      ]
    },
    {
      "cell_type": "markdown",
      "source": [
        "## Your Turn!\n",
        "Edit and execute the following code in your chosen Python environment."
      ],
      "metadata": {
        "id": "OCPd46y99TN1"
      }
    },
    {
      "cell_type": "code",
      "source": [
        "print('Turn this line of code into a comment.')\n",
        "print('Hello World!')"
      ],
      "metadata": {
        "colab": {
          "base_uri": "https://localhost:8080/"
        },
        "id": "NO08AwLj9VeZ",
        "outputId": "7e360285-b1e2-4001-d776-e83845ee2654"
      },
      "execution_count": 8,
      "outputs": [
        {
          "output_type": "stream",
          "name": "stdout",
          "text": [
            "Turn this into a comment.\n",
            "Hello World!\n"
          ]
        }
      ]
    }
  ]
}